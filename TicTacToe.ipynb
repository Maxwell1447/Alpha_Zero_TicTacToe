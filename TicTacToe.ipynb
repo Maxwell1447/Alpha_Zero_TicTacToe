{
 "cells": [
  {
   "cell_type": "code",
   "execution_count": 33,
   "metadata": {},
   "outputs": [],
   "source": [
    "from TicTacToeNNet import *\n",
    "from TicTacToeGame import *\n",
    "from TicTacToeLogic import *\n",
    "from TicTacToePlayers import *\n",
    "from NNet import *\n",
    "from Coach import *\n",
    "from MCTS import *\n",
    "from Arena import *\n",
    "from utils import dotdict"
   ]
  },
  {
   "cell_type": "code",
   "execution_count": 36,
   "metadata": {},
   "outputs": [],
   "source": [
    "args = dotdict({\n",
    "    'numIters': 10,\n",
    "    'numEps': 100,              # Number of complete self-play games to simulate during a new iteration.\n",
    "    'tempThreshold': 15,        #\n",
    "    'updateThreshold': 0.6,     # During arena playoff, new neural net will be accepted if threshold or more of games are won.\n",
    "    'maxlenOfQueue': 200000,    # Number of game examples to train the neural networks.\n",
    "    'numMCTSSims': 25,          # Number of games moves for MCTS to simulate.\n",
    "    'cpuct': 1,\n",
    "    'checkpoint': './temp/',\n",
    "    'load_model': False,\n",
    "    'numItersForTrainExamplesHistory': 20,\n",
    "})"
   ]
  },
  {
   "cell_type": "code",
   "execution_count": 37,
   "metadata": {},
   "outputs": [],
   "source": [
    "g = TicTacToeGame(n=3)\n",
    "nn = NNetWrapper(g)\n",
    "c = Coach(g, nn, args)"
   ]
  },
  {
   "cell_type": "code",
   "execution_count": 38,
   "metadata": {},
   "outputs": [
    {
     "name": "stderr",
     "output_type": "stream",
     "text": [
      "Self Play: 100%|██████████| 50/50 [02:26<00:00,  2.94s/it]\n"
     ]
    },
    {
     "name": "stdout",
     "output_type": "stream",
     "text": [
      "Checkpoint Directory exists! \n",
      "Epoch 1/10\n",
      "40/40 [==============================] - 1s 974us/step - loss: 3.9794 - pi_loss: 2.6815 - v_loss: 1.2979\n",
      "Epoch 2/10\n",
      "40/40 [==============================] - 0s 974us/step - loss: 3.4461 - pi_loss: 2.4654 - v_loss: 0.9808\n",
      "Epoch 3/10\n",
      "40/40 [==============================] - 0s 949us/step - loss: 3.2159 - pi_loss: 2.3760 - v_loss: 0.8399\n",
      "Epoch 4/10\n",
      "40/40 [==============================] - 0s 923us/step - loss: 3.1665 - pi_loss: 2.3057 - v_loss: 0.8608\n",
      "Epoch 5/10\n",
      "40/40 [==============================] - 0s 974us/step - loss: 3.0706 - pi_loss: 2.2702 - v_loss: 0.8004\n",
      "Epoch 6/10\n",
      "40/40 [==============================] - 0s 949us/step - loss: 3.0047 - pi_loss: 2.2506 - v_loss: 0.7541\n",
      "Epoch 7/10\n",
      "40/40 [==============================] - 0s 949us/step - loss: 2.9914 - pi_loss: 2.2174 - v_loss: 0.7739\n",
      "Epoch 8/10\n",
      "40/40 [==============================] - 0s 949us/step - loss: 2.9417 - pi_loss: 2.2023 - v_loss: 0.7395\n",
      "Epoch 9/10\n",
      "40/40 [==============================] - 0s 1000us/step - loss: 2.9373 - pi_loss: 2.2010 - v_loss: 0.7363\n",
      "Epoch 10/10\n",
      "40/40 [==============================] - 0s 1000us/step - loss: 2.9049 - pi_loss: 2.1667 - v_loss: 0.7382\n",
      "Checkpoint Directory exists! \n"
     ]
    },
    {
     "name": "stderr",
     "output_type": "stream",
     "text": [
      "Self Play: 100%|██████████| 50/50 [02:00<00:00,  2.41s/it]\n"
     ]
    },
    {
     "name": "stdout",
     "output_type": "stream",
     "text": [
      "Checkpoint Directory exists! \n",
      "Epoch 1/10\n",
      "83/83 [==============================] - 0s 1ms/step - loss: 2.8171 - pi_loss: 2.1520 - v_loss: 0.6651\n",
      "Epoch 2/10\n",
      "83/83 [==============================] - 0s 951us/step - loss: 2.7583 - pi_loss: 2.1165 - v_loss: 0.6418\n",
      "Epoch 3/10\n",
      "83/83 [==============================] - 0s 927us/step - loss: 2.6972 - pi_loss: 2.0828 - v_loss: 0.6144\n",
      "Epoch 4/10\n",
      "83/83 [==============================] - 0s 939us/step - loss: 2.6710 - pi_loss: 2.0552 - v_loss: 0.6158\n",
      "Epoch 5/10\n",
      "83/83 [==============================] - 0s 976us/step - loss: 2.6368 - pi_loss: 2.0393 - v_loss: 0.5974\n",
      "Epoch 6/10\n",
      "83/83 [==============================] - 0s 976us/step - loss: 2.6161 - pi_loss: 2.0153 - v_loss: 0.6009\n",
      "Epoch 7/10\n",
      "83/83 [==============================] - 0s 976us/step - loss: 2.5763 - pi_loss: 1.9977 - v_loss: 0.5786\n",
      "Epoch 8/10\n",
      "83/83 [==============================] - 0s 963us/step - loss: 2.5546 - pi_loss: 1.9826 - v_loss: 0.5720\n",
      "Epoch 9/10\n",
      "83/83 [==============================] - 0s 963us/step - loss: 2.5315 - pi_loss: 1.9592 - v_loss: 0.5722\n",
      "Epoch 10/10\n",
      "83/83 [==============================] - 0s 951us/step - loss: 2.5036 - pi_loss: 1.9400 - v_loss: 0.5636\n",
      "Checkpoint Directory exists! \n"
     ]
    },
    {
     "name": "stderr",
     "output_type": "stream",
     "text": [
      "Self Play: 100%|██████████| 50/50 [02:02<00:00,  2.45s/it]\n"
     ]
    },
    {
     "name": "stdout",
     "output_type": "stream",
     "text": [
      "Checkpoint Directory exists! \n",
      "Epoch 1/10\n",
      "127/127 [==============================] - 0s 960us/step - loss: 2.4067 - pi_loss: 1.8647 - v_loss: 0.5420\n",
      "Epoch 2/10\n",
      "127/127 [==============================] - 0s 957us/step - loss: 2.3712 - pi_loss: 1.8362 - v_loss: 0.5350\n",
      "Epoch 3/10\n",
      "127/127 [==============================] - 0s 927us/step - loss: 2.3454 - pi_loss: 1.8091 - v_loss: 0.5363\n",
      "Epoch 4/10\n",
      "127/127 [==============================] - 0s 968us/step - loss: 2.3155 - pi_loss: 1.7832 - v_loss: 0.5323\n",
      "Epoch 5/10\n",
      "127/127 [==============================] - 0s 1ms/step - loss: 2.2957 - pi_loss: 1.7622 - v_loss: 0.5335\n",
      "Epoch 6/10\n",
      "127/127 [==============================] - 0s 944us/step - loss: 2.2808 - pi_loss: 1.7487 - v_loss: 0.5322\n",
      "Epoch 7/10\n",
      "127/127 [==============================] - 0s 992us/step - loss: 2.2551 - pi_loss: 1.7251 - v_loss: 0.5301\n",
      "Epoch 8/10\n",
      "127/127 [==============================] - 0s 968us/step - loss: 2.2486 - pi_loss: 1.7159 - v_loss: 0.5327\n",
      "Epoch 9/10\n",
      "127/127 [==============================] - 0s 944us/step - loss: 2.2338 - pi_loss: 1.7003 - v_loss: 0.5335\n",
      "Epoch 10/10\n",
      "127/127 [==============================] - 0s 937us/step - loss: 2.2186 - pi_loss: 1.6859 - v_loss: 0.5327\n",
      "Checkpoint Directory exists! \n"
     ]
    },
    {
     "name": "stderr",
     "output_type": "stream",
     "text": [
      "Self Play: 100%|██████████| 50/50 [02:08<00:00,  2.57s/it]\n"
     ]
    },
    {
     "name": "stdout",
     "output_type": "stream",
     "text": [
      "Checkpoint Directory exists! \n",
      "Epoch 1/10\n",
      "173/173 [==============================] - 0s 983us/step - loss: 2.1450 - pi_loss: 1.6443 - v_loss: 0.5007\n",
      "Epoch 2/10\n",
      "173/173 [==============================] - 0s 1ms/step - loss: 2.1208 - pi_loss: 1.6266 - v_loss: 0.4942\n",
      "Epoch 3/10\n",
      "173/173 [==============================] - 0s 1ms/step - loss: 2.1120 - pi_loss: 1.6117 - v_loss: 0.5003\n",
      "Epoch 4/10\n",
      "173/173 [==============================] - 0s 1000us/step - loss: 2.1013 - pi_loss: 1.6026 - v_loss: 0.4987\n",
      "Epoch 5/10\n",
      "173/173 [==============================] - 0s 971us/step - loss: 2.0872 - pi_loss: 1.5863 - v_loss: 0.5009\n",
      "Epoch 6/10\n",
      "173/173 [==============================] - 0s 942us/step - loss: 2.0782 - pi_loss: 1.5809 - v_loss: 0.4973\n",
      "Epoch 7/10\n",
      "173/173 [==============================] - 0s 907us/step - loss: 2.0728 - pi_loss: 1.5736 - v_loss: 0.4992\n",
      "Epoch 8/10\n",
      "173/173 [==============================] - 0s 994us/step - loss: 2.0721 - pi_loss: 1.5752 - v_loss: 0.4970\n",
      "Epoch 9/10\n",
      "173/173 [==============================] - 0s 924us/step - loss: 2.0659 - pi_loss: 1.5679 - v_loss: 0.4980\n",
      "Epoch 10/10\n",
      "173/173 [==============================] - 0s 895us/step - loss: 2.0587 - pi_loss: 1.5643 - v_loss: 0.4944\n",
      "Checkpoint Directory exists! \n"
     ]
    },
    {
     "name": "stderr",
     "output_type": "stream",
     "text": [
      "Self Play: 100%|██████████| 50/50 [02:02<00:00,  2.44s/it]\n"
     ]
    },
    {
     "name": "stdout",
     "output_type": "stream",
     "text": [
      "Checkpoint Directory exists! \n",
      "Epoch 1/10\n",
      "219/219 [==============================] - 0s 940us/step - loss: 1.9950 - pi_loss: 1.5276 - v_loss: 0.4673\n",
      "Epoch 2/10\n",
      "219/219 [==============================] - 0s 950us/step - loss: 1.9845 - pi_loss: 1.5180 - v_loss: 0.4665\n",
      "Epoch 3/10\n",
      "219/219 [==============================] - 0s 936us/step - loss: 1.9822 - pi_loss: 1.5192 - v_loss: 0.4630\n",
      "Epoch 4/10\n",
      "219/219 [==============================] - 0s 954us/step - loss: 1.9705 - pi_loss: 1.5074 - v_loss: 0.4630\n",
      "Epoch 5/10\n",
      "219/219 [==============================] - 0s 982us/step - loss: 1.9699 - pi_loss: 1.5067 - v_loss: 0.4631\n",
      "Epoch 6/10\n",
      "219/219 [==============================] - 0s 899us/step - loss: 1.9639 - pi_loss: 1.4989 - v_loss: 0.4650\n",
      "Epoch 7/10\n",
      "219/219 [==============================] - 0s 950us/step - loss: 1.9626 - pi_loss: 1.4987 - v_loss: 0.4639\n",
      "Epoch 8/10\n",
      "219/219 [==============================] - 0s 913us/step - loss: 1.9507 - pi_loss: 1.4900 - v_loss: 0.4607\n",
      "Epoch 9/10\n",
      "219/219 [==============================] - 0s 881us/step - loss: 1.9538 - pi_loss: 1.4895 - v_loss: 0.4643\n",
      "Epoch 10/10\n",
      "219/219 [==============================] - 0s 913us/step - loss: 1.9492 - pi_loss: 1.4882 - v_loss: 0.4611\n",
      "Checkpoint Directory exists! \n"
     ]
    }
   ],
   "source": [
    "# ATTENTION : execution longue !\n",
    "# Passez cette cellule et chargez les poids sur la cellule suivante\n",
    "c.learn()\n",
    "nnet = c.nnet\n",
    "nnet.nnet.model.save_weights(\"./nnet.pth.tar\")"
   ]
  },
  {
   "cell_type": "code",
   "execution_count": 62,
   "metadata": {},
   "outputs": [
    {
     "data": {
      "text/plain": [
       "<tensorflow.python.training.tracking.util.CheckpointLoadStatus at 0x2098b391ef0>"
      ]
     },
     "execution_count": 62,
     "metadata": {},
     "output_type": "execute_result"
    }
   ],
   "source": [
    "nnet.nnet.model.load_weights(\"./nnet.pth.tar\")"
   ]
  },
  {
   "cell_type": "code",
   "execution_count": 50,
   "metadata": {},
   "outputs": [],
   "source": [
    "mcts = MCTS(g, nnet , dotdict({'numMCTSSims': 10, 'cpuct':1.0}))\n",
    "def nn_player(board):\n",
    "    return np.argmax(mcts.getActionProb(board, temp=0))"
   ]
  },
  {
   "cell_type": "code",
   "execution_count": 51,
   "metadata": {},
   "outputs": [],
   "source": [
    "human = HumanTicTacToePlayer(g)"
   ]
  },
  {
   "cell_type": "code",
   "execution_count": 52,
   "metadata": {},
   "outputs": [],
   "source": [
    "# pour human vs machine\n",
    "arena = Arena(nn_player, human.play, g, display=TicTacToeGame.display)\n",
    "\n",
    "# pour machine vs machine\n",
    "arena = Arena(nn_player, nn_player, g, display=TicTacToeGame.display)"
   ]
  },
  {
   "cell_type": "code",
   "execution_count": 53,
   "metadata": {
    "scrolled": false
   },
   "outputs": [
    {
     "name": "stderr",
     "output_type": "stream",
     "text": [
      "\r",
      "Arena.playGames (1):   0%|          | 0/1 [00:00<?, ?it/s]"
     ]
    },
    {
     "name": "stdout",
     "output_type": "stream",
     "text": [
      "Turn  1 Player  1\n",
      "   0 1 2 \n",
      "  --------\n",
      "0 |- - - |\n",
      "1 |- - - |\n",
      "2 |- - - |\n",
      "  --------\n",
      "Turn  2 Player  -1\n",
      "   0 1 2 \n",
      "  --------\n",
      "0 |- - - |\n",
      "1 |- O - |\n",
      "2 |- - - |\n",
      "  --------\n",
      "Turn  3 Player  1\n",
      "   0 1 2 \n",
      "  --------\n",
      "0 |X - - |\n",
      "1 |- O - |\n",
      "2 |- - - |\n",
      "  --------\n",
      "Turn  4 Player  -1\n",
      "   0 1 2 \n",
      "  --------\n",
      "0 |X - O |\n",
      "1 |- O - |\n",
      "2 |- - - |\n",
      "  --------\n",
      "Turn  5 Player  1\n",
      "   0 1 2 \n",
      "  --------\n",
      "0 |X - O |\n",
      "1 |- O - |\n",
      "2 |X - - |\n",
      "  --------\n",
      "Turn  6 Player  -1\n",
      "   0 1 2 \n",
      "  --------\n",
      "0 |X - O |\n",
      "1 |O O - |\n",
      "2 |X - - |\n",
      "  --------\n"
     ]
    },
    {
     "name": "stderr",
     "output_type": "stream",
     "text": [
      "Arena.playGames (1): 100%|██████████| 1/1 [00:01<00:00,  1.33s/it]\n",
      "Arena.playGames (2):   0%|          | 0/1 [00:00<?, ?it/s]"
     ]
    },
    {
     "name": "stdout",
     "output_type": "stream",
     "text": [
      "Turn  7 Player  1\n",
      "   0 1 2 \n",
      "  --------\n",
      "0 |X - O |\n",
      "1 |O O X |\n",
      "2 |X - - |\n",
      "  --------\n",
      "Turn  8 Player  -1\n",
      "   0 1 2 \n",
      "  --------\n",
      "0 |X - O |\n",
      "1 |O O X |\n",
      "2 |X - O |\n",
      "  --------\n",
      "Turn  9 Player  1\n",
      "   0 1 2 \n",
      "  --------\n",
      "0 |X X O |\n",
      "1 |O O X |\n",
      "2 |X - O |\n",
      "  --------\n",
      "Game over: Turn  9 Result  0.0001\n",
      "   0 1 2 \n",
      "  --------\n",
      "0 |X X O |\n",
      "1 |O O X |\n",
      "2 |X O O |\n",
      "  --------\n",
      "Turn  1 Player  1\n",
      "   0 1 2 \n",
      "  --------\n",
      "0 |- - - |\n",
      "1 |- - - |\n",
      "2 |- - - |\n",
      "  --------\n",
      "Turn  2 Player  -1\n",
      "   0 1 2 \n",
      "  --------\n",
      "0 |- - - |\n",
      "1 |- O - |\n",
      "2 |- - - |\n",
      "  --------\n",
      "Turn  3 Player  1\n",
      "   0 1 2 \n",
      "  --------\n",
      "0 |X - - |\n",
      "1 |- O - |\n",
      "2 |- - - |\n",
      "  --------\n",
      "Turn  4 Player  -1\n",
      "   0 1 2 \n",
      "  --------\n",
      "0 |X - - |\n",
      "1 |- O - |\n",
      "2 |O - - |\n",
      "  --------\n",
      "Turn  5 Player  1\n",
      "   0 1 2 \n",
      "  --------\n",
      "0 |X - X |\n",
      "1 |- O - |\n",
      "2 |O - - |\n",
      "  --------\n",
      "Turn  6 Player  -1\n",
      "   0 1 2 \n",
      "  --------\n",
      "0 |X O X |\n",
      "1 |- O - |\n",
      "2 |O - - |\n",
      "  --------\n"
     ]
    },
    {
     "name": "stderr",
     "output_type": "stream",
     "text": [
      "Arena.playGames (2): 100%|██████████| 1/1 [00:01<00:00,  1.27s/it]"
     ]
    },
    {
     "name": "stdout",
     "output_type": "stream",
     "text": [
      "Turn  7 Player  1\n",
      "   0 1 2 \n",
      "  --------\n",
      "0 |X O X |\n",
      "1 |- O - |\n",
      "2 |O X - |\n",
      "  --------\n",
      "Turn  8 Player  -1\n",
      "   0 1 2 \n",
      "  --------\n",
      "0 |X O X |\n",
      "1 |- O - |\n",
      "2 |O X O |\n",
      "  --------\n",
      "Turn  9 Player  1\n",
      "   0 1 2 \n",
      "  --------\n",
      "0 |X O X |\n",
      "1 |X O - |\n",
      "2 |O X O |\n",
      "  --------\n",
      "Game over: Turn  9 Result  0.0001\n",
      "   0 1 2 \n",
      "  --------\n",
      "0 |X O X |\n",
      "1 |X O O |\n",
      "2 |O X O |\n",
      "  --------\n",
      "(0, 0, 2)\n"
     ]
    },
    {
     "name": "stderr",
     "output_type": "stream",
     "text": [
      "\n"
     ]
    }
   ],
   "source": [
    "print(arena.playGames(2, verbose=True))"
   ]
  },
  {
   "cell_type": "code",
   "execution_count": null,
   "metadata": {},
   "outputs": [],
   "source": []
  }
 ],
 "metadata": {
  "kernelspec": {
   "display_name": "Python 3",
   "language": "python",
   "name": "python3"
  },
  "language_info": {
   "codemirror_mode": {
    "name": "ipython",
    "version": 3
   },
   "file_extension": ".py",
   "mimetype": "text/x-python",
   "name": "python",
   "nbconvert_exporter": "python",
   "pygments_lexer": "ipython3",
   "version": "3.7.3"
  }
 },
 "nbformat": 4,
 "nbformat_minor": 4
}
